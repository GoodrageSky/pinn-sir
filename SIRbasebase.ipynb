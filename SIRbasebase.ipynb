{
 "cells": [
  {
   "cell_type": "code",
   "execution_count": 1,
   "metadata": {
    "collapsed": true,
    "ExecuteTime": {
     "end_time": "2023-08-20T02:37:16.166505200Z",
     "start_time": "2023-08-20T02:37:14.018173100Z"
    }
   },
   "outputs": [
    {
     "name": "stderr",
     "output_type": "stream",
     "text": [
      "Using backend: pytorch\n",
      "Other supported backends: tensorflow.compat.v1, tensorflow, jax, paddle.\n",
      "paddle supports more examples now and is recommended.\n"
     ]
    }
   ],
   "source": [
    "import deepxde as dde\n",
    "import matplotlib.pyplot as plt\n",
    "import numpy as np\n",
    "from scipy import integrate\n",
    "import torch\n",
    "from mpl_toolkits.mplot3d import Axes3D"
   ]
  },
  {
   "cell_type": "code",
   "execution_count": 2,
   "outputs": [
    {
     "name": "stdout",
     "output_type": "stream",
     "text": [
      "True\n"
     ]
    }
   ],
   "source": [
    "print(torch.cuda.is_available())"
   ],
   "metadata": {
    "collapsed": false,
    "ExecuteTime": {
     "end_time": "2023-08-20T02:37:44.549721800Z",
     "start_time": "2023-08-20T02:37:44.506930400Z"
    }
   }
  },
  {
   "cell_type": "code",
   "execution_count": 3,
   "outputs": [],
   "source": [
    "beta = 0.0921\n",
    "gamma = 0.0492\n",
    "tot=1\n",
    "\n",
    "#def func(s, i,r):\n",
    "#    ds_t = miu-miu*s-beta*s*i\n",
    "#    di_t = -miu*i+beta*s*i-gamma*i\n",
    "#    dr_t = gamma*i-miu*r\n",
    "#    return ds_t,di_t,dr_t"
   ],
   "metadata": {
    "collapsed": false,
    "ExecuteTime": {
     "end_time": "2023-08-20T02:37:45.037850Z",
     "start_time": "2023-08-20T02:37:45.032854Z"
    }
   }
  },
  {
   "cell_type": "code",
   "execution_count": 4,
   "outputs": [],
   "source": [
    "def boundary(_, on_initial):\n",
    "    return on_initial"
   ],
   "metadata": {
    "collapsed": false,
    "ExecuteTime": {
     "end_time": "2023-08-20T02:37:45.464441200Z",
     "start_time": "2023-08-20T02:37:45.456460700Z"
    }
   }
  },
  {
   "cell_type": "code",
   "execution_count": 5,
   "outputs": [],
   "source": [
    "def ode_system(x, y):\n",
    "    S, I,R = y[:, 0:1], y[:, 1:2], y[:,2:3]\n",
    "    ds_x = dde.grad.jacobian(y, x, i=0)\n",
    "    di_x = dde.grad.jacobian(y, x, i=1)\n",
    "    dr_x = dde.grad.jacobian(y, x, i=2)\n",
    "    return [ds_x+beta*I*S/tot, di_x-beta*I*S/tot+gamma*I, dr_x-gamma*I,S+I+R-tot]"
   ],
   "metadata": {
    "collapsed": false,
    "ExecuteTime": {
     "end_time": "2023-08-20T02:37:46.127714400Z",
     "start_time": "2023-08-20T02:37:46.109761900Z"
    }
   }
  },
  {
   "cell_type": "code",
   "execution_count": 6,
   "outputs": [],
   "source": [
    "geom = dde.geometry.TimeDomain(0, 150)\n",
    "ic1 = dde.icbc.IC(geom, lambda x: 0.968, boundary, component=0)\n",
    "ic2 = dde.icbc.IC(geom, lambda x: 0.031667, boundary, component=1)\n",
    "ic3 = dde.icbc.IC(geom, lambda x: 0.000333, boundary, component=2)\n",
    "data = dde.data.PDE(geom, ode_system, [ic1,ic2,ic3], 3000, 100, num_test=100)\n",
    "\n",
    "layer_size = [1,20,80,256,40,3]\n",
    "activation = \"elu\"\n",
    "initializer = \"Glorot normal\"\n",
    "net = dde.nn.FNN(layer_size, activation, initializer)"
   ],
   "metadata": {
    "collapsed": false,
    "ExecuteTime": {
     "end_time": "2023-08-20T02:37:49.014276300Z",
     "start_time": "2023-08-20T02:37:46.851060Z"
    }
   }
  },
  {
   "cell_type": "code",
   "execution_count": 7,
   "outputs": [
    {
     "name": "stdout",
     "output_type": "stream",
     "text": [
      "Compiling model...\n",
      "'compile' took 0.000220 s\n",
      "\n",
      "Training model...\n",
      "\n",
      "Step      Train loss                                                                Test loss                                                                 Test metric\n",
      "0         [1.59e-01, 1.78e-01, 1.39e-02, 6.63e+01, 9.37e-01, 1.00e-03, 1.11e-07]    [1.50e-01, 1.68e-01, 1.37e-02, 6.50e+01, 9.37e-01, 1.00e-03, 1.11e-07]    []  \n",
      "1000      [2.58e-05, 8.20e-06, 1.05e-05, 3.72e-05, 5.02e-08, 3.07e-08, 3.73e-08]    [1.88e-05, 7.45e-06, 8.07e-06, 3.59e-05, 5.01e-08, 3.07e-08, 3.73e-08]    []  \n",
      "2000      [1.69e-05, 6.41e-06, 7.73e-06, 2.09e-05, 1.67e-08, 6.55e-09, 9.55e-09]    [1.46e-05, 6.45e-06, 7.22e-06, 1.98e-05, 1.67e-08, 6.56e-09, 9.56e-09]    []  \n",
      "3000      [6.11e-06, 3.96e-06, 2.64e-06, 5.22e-06, 8.13e-09, 2.90e-09, 5.45e-09]    [4.34e-06, 3.80e-06, 2.45e-06, 5.06e-06, 8.13e-09, 2.90e-09, 5.45e-09]    []  \n",
      "4000      [1.77e-06, 7.74e-07, 3.03e-07, 1.39e-06, 1.60e-09, 7.50e-10, 1.43e-09]    [8.77e-07, 7.43e-07, 2.73e-07, 1.19e-06, 1.60e-09, 7.50e-10, 1.43e-09]    []  \n",
      "5000      [1.32e-06, 2.11e-07, 5.24e-07, 1.42e-06, 1.57e-09, 9.92e-10, 1.64e-09]    [7.77e-07, 2.02e-07, 4.56e-07, 1.28e-06, 1.57e-09, 9.92e-10, 1.64e-09]    []  \n",
      "6000      [1.41e-06, 7.97e-07, 2.65e-07, 1.03e-06, 3.78e-10, 1.90e-10, 3.43e-10]    [1.17e-06, 8.10e-07, 2.22e-07, 9.75e-07, 3.78e-10, 1.89e-10, 3.44e-10]    []  \n",
      "7000      [1.56e-06, 1.68e-06, 4.72e-07, 2.50e-06, 7.32e-10, 6.01e-12, 3.64e-10]    [1.37e-06, 1.70e-06, 5.11e-07, 2.49e-06, 7.39e-10, 6.08e-12, 3.64e-10]    []  \n",
      "8000      [5.85e-07, 1.17e-06, 4.04e-07, 1.01e-06, 5.29e-10, 4.83e-11, 5.27e-10]    [5.08e-07, 1.19e-06, 4.07e-07, 9.83e-07, 5.29e-10, 4.82e-11, 5.27e-10]    []  \n",
      "9000      [8.18e-07, 1.64e-06, 7.99e-07, 5.85e-07, 9.28e-10, 5.15e-12, 8.72e-10]    [7.85e-07, 1.64e-06, 7.99e-07, 5.71e-07, 9.28e-10, 5.28e-12, 8.69e-10]    []  \n",
      "10000     [7.52e-07, 1.32e-06, 7.71e-07, 4.19e-07, 4.86e-12, 3.88e-10, 5.61e-10]    [7.32e-07, 1.31e-06, 8.08e-07, 4.29e-07, 5.13e-12, 3.89e-10, 5.60e-10]    []  \n",
      "11000     [8.23e-07, 1.68e-06, 8.75e-07, 1.01e-06, 1.21e-09, 6.27e-11, 7.52e-10]    [8.06e-07, 1.67e-06, 8.45e-07, 1.06e-06, 1.20e-09, 6.30e-11, 7.53e-10]    []  \n",
      "12000     [3.21e-07, 7.37e-07, 2.11e-07, 2.75e-07, 9.98e-10, 1.04e-09, 2.30e-09]    [2.82e-07, 6.98e-07, 1.53e-07, 2.71e-07, 9.90e-10, 1.04e-09, 2.30e-09]    []  \n",
      "13000     [3.29e-07, 7.21e-07, 2.43e-07, 4.03e-06, 2.60e-08, 1.07e-11, 2.27e-08]    [3.15e-07, 7.33e-07, 1.80e-07, 4.07e-06, 2.60e-08, 1.09e-11, 2.27e-08]    []  \n",
      "14000     [5.34e-07, 1.21e-06, 5.56e-07, 4.35e-06, 1.27e-06, 2.96e-07, 5.52e-09]    [5.25e-07, 1.23e-06, 4.99e-07, 4.38e-06, 1.27e-06, 2.96e-07, 5.52e-09]    []  \n",
      "15000     [2.72e-07, 6.61e-07, 2.23e-07, 1.47e-08, 1.07e-07, 9.00e-11, 6.30e-08]    [2.54e-07, 6.74e-07, 1.72e-07, 1.14e-08, 1.07e-07, 8.97e-11, 6.29e-08]    []  \n",
      "16000     [1.06e-06, 8.64e-07, 3.54e-07, 6.39e-05, 1.13e-07, 7.62e-08, 1.24e-06]    [1.05e-06, 8.83e-07, 1.76e-07, 6.47e-05, 1.13e-07, 7.62e-08, 1.24e-06]    []  \n",
      "17000     [2.04e-07, 5.94e-07, 1.55e-07, 2.13e-05, 5.43e-06, 1.99e-07, 8.56e-08]    [1.83e-07, 5.75e-07, 1.16e-07, 2.16e-05, 5.43e-06, 1.99e-07, 8.56e-08]    []  \n",
      "18000     [1.89e-07, 5.42e-07, 1.90e-07, 4.70e-06, 7.52e-08, 2.74e-09, 3.74e-08]    [1.61e-07, 5.39e-07, 1.43e-07, 4.77e-06, 7.53e-08, 2.74e-09, 3.74e-08]    []  \n",
      "19000     [3.84e-07, 5.98e-07, 2.57e-07, 1.02e-04, 9.66e-07, 2.77e-08, 2.08e-06]    [3.03e-07, 5.84e-07, 1.54e-07, 1.04e-04, 9.66e-07, 2.76e-08, 2.08e-06]    []  \n",
      "20000     [2.22e-07, 5.66e-07, 1.63e-07, 1.97e-06, 8.25e-07, 9.97e-08, 2.71e-07]    [1.95e-07, 5.72e-07, 1.68e-07, 1.99e-06, 8.25e-07, 9.98e-08, 2.71e-07]    []  \n",
      "21000     [2.88e-07, 6.11e-07, 1.99e-07, 7.04e-08, 3.46e-10, 3.53e-11, 3.85e-10]    [2.76e-07, 5.81e-07, 1.78e-07, 5.94e-08, 3.41e-10, 3.54e-11, 3.85e-10]    []  \n",
      "22000     [8.23e-08, 4.30e-07, 2.04e-07, 5.63e-07, 2.68e-07, 1.00e-05, 2.35e-05]    [8.20e-08, 4.00e-07, 1.68e-07, 5.42e-07, 2.68e-07, 1.00e-05, 2.35e-05]    []  \n",
      "23000     [1.59e-07, 5.43e-07, 1.45e-07, 2.18e-08, 2.43e-07, 3.44e-09, 1.47e-07]    [1.58e-07, 5.06e-07, 1.33e-07, 1.49e-08, 2.43e-07, 3.44e-09, 1.47e-07]    []  \n",
      "24000     [1.54e-07, 5.22e-07, 1.43e-07, 1.51e-08, 4.63e-09, 3.32e-12, 7.05e-09]    [1.52e-07, 4.85e-07, 1.33e-07, 8.59e-09, 4.62e-09, 3.24e-12, 7.05e-09]    []  \n",
      "25000     [1.81e-07, 5.47e-07, 1.35e-07, 9.76e-08, 9.78e-08, 8.77e-10, 8.18e-08]    [1.83e-07, 5.15e-07, 1.28e-07, 9.52e-08, 9.78e-08, 8.76e-10, 8.18e-08]    []  \n",
      "26000     [1.53e-07, 5.24e-07, 1.30e-07, 6.78e-07, 4.22e-07, 1.21e-08, 1.78e-08]    [1.51e-07, 4.98e-07, 1.27e-07, 6.86e-07, 4.22e-07, 1.21e-08, 1.78e-08]    []  \n",
      "27000     [1.52e-07, 5.20e-07, 1.41e-07, 6.27e-07, 1.82e-08, 4.94e-09, 6.35e-08]    [1.47e-07, 4.93e-07, 1.26e-07, 6.38e-07, 1.82e-08, 4.94e-09, 6.35e-08]    []  \n",
      "28000     [2.44e-07, 6.31e-07, 1.28e-07, 3.45e-07, 8.22e-08, 6.82e-07, 3.73e-07]    [2.39e-07, 5.87e-07, 1.17e-07, 3.49e-07, 8.22e-08, 6.82e-07, 3.73e-07]    []  \n",
      "29000     [1.46e-07, 5.35e-07, 1.55e-07, 2.39e-07, 8.85e-07, 2.15e-09, 5.65e-08]    [1.42e-07, 5.12e-07, 1.42e-07, 2.29e-07, 8.85e-07, 2.15e-09, 5.65e-08]    []  \n",
      "30000     [1.48e-07, 5.18e-07, 1.34e-07, 7.76e-07, 4.06e-08, 8.72e-09, 1.69e-08]    [1.45e-07, 4.99e-07, 1.22e-07, 7.85e-07, 4.07e-08, 8.73e-09, 1.69e-08]    []  \n",
      "31000     [1.19e-07, 5.04e-07, 1.41e-07, 1.64e-09, 1.30e-09, 3.60e-10, 1.09e-10]    [1.17e-07, 5.00e-07, 1.43e-07, 1.65e-09, 1.29e-09, 3.60e-10, 1.09e-10]    []  \n",
      "32000     [1.21e-07, 5.14e-07, 1.71e-07, 2.29e-06, 7.26e-07, 5.46e-09, 1.83e-08]    [1.22e-07, 5.18e-07, 1.70e-07, 2.31e-06, 7.26e-07, 5.46e-09, 1.83e-08]    []  \n",
      "33000     [2.32e-07, 6.03e-07, 1.55e-07, 7.90e-06, 1.75e-07, 2.98e-06, 5.42e-07]    [2.14e-07, 5.68e-07, 1.44e-07, 8.08e-06, 1.75e-07, 2.98e-06, 5.42e-07]    []  \n",
      "34000     [1.25e-07, 5.06e-07, 1.39e-07, 1.41e-07, 7.57e-11, 2.47e-10, 2.82e-08]    [1.31e-07, 5.14e-07, 1.44e-07, 1.44e-07, 7.78e-11, 2.47e-10, 2.82e-08]    []  \n",
      "35000     [6.13e-07, 6.45e-07, 4.40e-07, 7.42e-05, 2.62e-06, 3.07e-06, 3.72e-07]    [5.60e-07, 5.90e-07, 4.33e-07, 7.55e-05, 2.62e-06, 3.07e-06, 3.72e-07]    []  \n",
      "36000     [1.11e-07, 5.02e-07, 1.43e-07, 4.84e-07, 8.20e-09, 6.04e-09, 1.66e-09]    [1.08e-07, 4.98e-07, 1.53e-07, 4.95e-07, 8.18e-09, 6.05e-09, 1.66e-09]    []  \n",
      "37000     [8.72e-08, 5.24e-07, 1.97e-07, 9.08e-07, 2.66e-09, 4.53e-08, 3.15e-07]    [8.80e-08, 5.14e-07, 2.01e-07, 9.24e-07, 2.66e-09, 4.53e-08, 3.15e-07]    []  \n",
      "38000     [1.10e-07, 5.01e-07, 1.51e-07, 7.47e-08, 3.07e-09, 3.56e-09, 3.02e-11]    [1.17e-07, 5.01e-07, 1.48e-07, 7.70e-08, 3.07e-09, 3.56e-09, 3.06e-11]    []  \n",
      "39000     [1.19e-07, 5.05e-07, 1.47e-07, 9.62e-10, 3.21e-11, 2.28e-10, 4.33e-11]    [1.21e-07, 5.05e-07, 1.46e-07, 7.59e-10, 3.01e-11, 2.28e-10, 4.34e-11]    []  \n",
      "40000     [1.62e-07, 5.18e-07, 1.32e-07, 4.48e-06, 6.39e-07, 3.48e-08, 2.13e-08]    [1.57e-07, 5.29e-07, 1.28e-07, 4.55e-06, 6.39e-07, 3.48e-08, 2.13e-08]    []  \n",
      "41000     [1.18e-07, 5.05e-07, 1.42e-07, 9.79e-10, 5.82e-11, 3.36e-10, 1.14e-10]    [1.19e-07, 5.11e-07, 1.47e-07, 9.06e-10, 5.91e-11, 3.36e-10, 1.14e-10]    []  \n",
      "42000     [3.05e-07, 5.48e-07, 1.18e-07, 4.86e-06, 7.69e-07, 3.46e-07, 9.48e-07]    [2.87e-07, 5.49e-07, 1.07e-07, 4.95e-06, 7.68e-07, 3.46e-07, 9.48e-07]    []  \n",
      "43000     [1.33e-07, 5.07e-07, 1.52e-07, 2.17e-06, 1.49e-07, 2.36e-10, 4.05e-08]    [1.18e-07, 4.85e-07, 1.38e-07, 2.20e-06, 1.49e-07, 2.36e-10, 4.05e-08]    []  \n",
      "44000     [1.32e-07, 5.09e-07, 1.43e-07, 3.04e-09, 6.47e-11, 2.01e-10, 8.50e-11]    [1.18e-07, 4.91e-07, 1.43e-07, 2.71e-09, 6.38e-11, 2.01e-10, 8.55e-11]    []  \n",
      "45000     [1.32e-07, 5.07e-07, 1.45e-07, 5.40e-09, 1.04e-10, 2.16e-10, 1.01e-10]    [1.18e-07, 5.03e-07, 1.49e-07, 5.13e-09, 1.05e-10, 2.16e-10, 1.02e-10]    []  \n",
      "46000     [1.25e-07, 5.10e-07, 1.48e-07, 1.48e-08, 1.90e-10, 5.37e-11, 1.11e-10]    [1.15e-07, 4.97e-07, 1.50e-07, 1.46e-08, 1.93e-10, 5.41e-11, 1.11e-10]    []  \n",
      "47000     [3.49e-07, 5.30e-07, 1.42e-07, 2.01e-06, 2.30e-07, 8.39e-09, 5.95e-07]    [3.37e-07, 5.24e-07, 1.37e-07, 2.05e-06, 2.30e-07, 8.38e-09, 5.95e-07]    []  \n",
      "48000     [1.09e-07, 5.19e-07, 2.29e-07, 3.13e-06, 1.52e-07, 3.86e-08, 2.85e-08]    [1.05e-07, 5.14e-07, 2.32e-07, 3.18e-06, 1.53e-07, 3.86e-08, 2.85e-08]    []  \n",
      "49000     [1.62e-07, 5.15e-07, 1.24e-07, 7.80e-07, 9.21e-08, 2.93e-08, 6.83e-09]    [1.63e-07, 5.30e-07, 1.22e-07, 7.94e-07, 9.23e-08, 2.93e-08, 6.83e-09]    []  \n",
      "50000     [1.50e-07, 5.07e-07, 1.25e-07, 1.75e-07, 1.60e-07, 4.20e-08, 2.81e-07]    [1.49e-07, 5.07e-07, 1.26e-07, 1.79e-07, 1.60e-07, 4.20e-08, 2.81e-07]    []  \n",
      "\n",
      "Best model at step 41000:\n",
      "  train loss: 7.66e-07\n",
      "  test loss: 7.79e-07\n",
      "  test metric: []\n",
      "\n",
      "'train' took 550.760064 s\n",
      "\n"
     ]
    }
   ],
   "source": [
    "model = dde.Model(data, net)\n",
    "model.compile(\"adam\", lr=0.001)\n",
    "losshistory, train_state = model.train(iterations=50000)\n",
    "# Most backends except jax can have a second fine tuning of the solution\n"
   ],
   "metadata": {
    "collapsed": false,
    "ExecuteTime": {
     "end_time": "2023-08-20T02:46:59.763772700Z",
     "start_time": "2023-08-20T02:37:49.003306Z"
    }
   }
  },
  {
   "cell_type": "code",
   "execution_count": 32,
   "outputs": [],
   "source": [
    "from deepxde.utils.external import *"
   ],
   "metadata": {
    "collapsed": false,
    "ExecuteTime": {
     "end_time": "2023-08-19T03:47:08.228263100Z",
     "start_time": "2023-08-19T03:47:08.178858700Z"
    }
   }
  },
  {
   "cell_type": "code",
   "execution_count": 33,
   "outputs": [],
   "source": [
    "def pack_data(train_state):\n",
    "    def merge_values(values):\n",
    "        if values is None:\n",
    "            return None\n",
    "        return np.hstack(values) if isinstance(values, (list, tuple)) else values\n",
    "\n",
    "    y_train = merge_values(train_state.y_train)\n",
    "    y_test = merge_values(train_state.y_test)\n",
    "    best_y = merge_values(train_state.best_y)\n",
    "    best_ystd = merge_values(train_state.best_ystd)\n",
    "    return y_train, y_test, best_y, best_ystd\n",
    "s = pack_data(train_state)"
   ],
   "metadata": {
    "collapsed": false,
    "ExecuteTime": {
     "end_time": "2023-08-19T03:47:08.859067800Z",
     "start_time": "2023-08-19T03:47:08.859067800Z"
    }
   }
  },
  {
   "cell_type": "code",
   "execution_count": 34,
   "outputs": [],
   "source": [
    "def myplot_best_state(train_state):\n",
    "    \"\"\"Plot the best result of the smallest training loss.\n",
    "\n",
    "    This function only works for 1D and 2D problems. For other problems and to better\n",
    "    customize the figure, use ``save_best_state()``.\n",
    "\n",
    "    Note:\n",
    "        You need to call ``plt.show()`` to show the figure.\n",
    "\n",
    "    Args:\n",
    "        train_state: ``TrainState`` instance. The second variable returned from\n",
    "            ``Model.train()``.\n",
    "    \"\"\"\n",
    "    if isinstance(train_state.X_train, (list, tuple)):\n",
    "        print(\n",
    "            \"Error: The network has multiple inputs, and plotting such result han't been implemented.\"\n",
    "        )\n",
    "        return\n",
    "\n",
    "    y_train, y_test, best_y, best_ystd = pack_data(train_state)\n",
    "    y_dim = best_y.shape[1]\n",
    "\n",
    "    # Regression plot\n",
    "    # 1D\n",
    "    if train_state.X_test.shape[1] == 1:\n",
    "        idx = np.argsort(train_state.X_test[:, 0])\n",
    "        X = train_state.X_test[idx, 0]\n",
    "        plt.figure()\n",
    "        bestval=-1,mxval=-1\n",
    "        for i in range(y_dim):\n",
    "            if y_train is not None:\n",
    "                plt.plot(train_state.X_train[:, 0], y_train[:, i], \"ok\", label=\"Train\")\n",
    "            if y_test is not None:\n",
    "                plt.plot(X, y_test[idx, i], \"-k\", label=\"True\")\n",
    "            if i==0:\n",
    "                plt.plot(X, best_y[idx, i], color='red', label=\"S\")\n",
    "            elif i==1:\n",
    "                plt.plot(X, best_y[idx, i], color='green', label=\"I\")\n",
    "                if best_y[idx, i]>mxval:\n",
    "                    mxval=best_y[idx, i]\n",
    "                    bestval=i\n",
    "            else:\n",
    "                plt.plot(X, best_y[idx, i], color='blue', label=\"R\")\n",
    "            if best_ystd is not None:\n",
    "                plt.plot(\n",
    "                    X, best_y[idx, i] + 2 * best_ystd[idx, i], \"-b\", label=\"95% CI\"\n",
    "                )\n",
    "                plt.plot(X, best_y[idx, i] - 2 * best_ystd[idx, i], \"-b\")\n",
    "        plt.xlabel(\"x\")\n",
    "        plt.ylabel(\"y\")\n",
    "        plt.legend()\n",
    "        print(bestval)\n",
    "    # 2D\n",
    "    elif train_state.X_test.shape[1] == 2:\n",
    "        for i in range(y_dim):\n",
    "            plt.figure()\n",
    "            ax = plt.axes(projection=Axes3D.name)\n",
    "            ax.plot3D(\n",
    "                train_state.X_test[:, 0],\n",
    "                train_state.X_test[:, 1],\n",
    "                best_y[:, i],\n",
    "                \".\",\n",
    "            )\n",
    "            ax.set_xlabel(\"$x_1$\")\n",
    "            ax.set_ylabel(\"$x_2$\")\n",
    "            ax.set_zlabel(\"$y_{}$\".format(i + 1))\n"
   ],
   "metadata": {
    "collapsed": false,
    "ExecuteTime": {
     "end_time": "2023-08-19T03:47:09.744154300Z",
     "start_time": "2023-08-19T03:47:09.731187900Z"
    }
   }
  },
  {
   "cell_type": "code",
   "execution_count": 35,
   "outputs": [
    {
     "data": {
      "text/plain": "<Figure size 640x480 with 1 Axes>",
      "image/png": "[encoded data removed]"
     },
     "metadata": {},
     "output_type": "display_data"
    }
   ],
   "source": [
    "myplot_best_state(train_state)"
   ],
   "metadata": {
    "collapsed": false,
    "ExecuteTime": {
     "end_time": "2023-08-19T03:47:11.158323100Z",
     "start_time": "2023-08-19T03:47:10.898021800Z"
    }
   }
  },
  {
   "cell_type": "code",
   "execution_count": null,
   "outputs": [],
   "source": [],
   "metadata": {
    "collapsed": false
   }
  }
 ],
 "metadata": {
  "kernelspec": {
   "display_name": "Python 3",
   "language": "python",
   "name": "python3"
  },
  "language_info": {
   "codemirror_mode": {
    "name": "ipython",
    "version": 2
   },
   "file_extension": ".py",
   "mimetype": "text/x-python",
   "name": "python",
   "nbconvert_exporter": "python",
   "pygments_lexer": "ipython2",
   "version": "2.7.6"
  }
 },
 "nbformat": 4,
 "nbformat_minor": 0
}
