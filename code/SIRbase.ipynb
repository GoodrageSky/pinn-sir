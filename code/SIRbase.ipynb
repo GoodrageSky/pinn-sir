{
 "cells": [
  {
   "cell_type": "code",
   "execution_count": null,
   "metadata": {
    "collapsed": true
   },
   "outputs": [],
   "source": [
    "import deepxde as dde\n",
    "import matplotlib\n",
    "matplotlib.use('nbagg')\n",
    "import matplotlib.pyplot as plt\n",
    "import torch\n",
    "import numpy as np\n",
    "import math\n",
    "from mpl_toolkits.mplot3d import Axes3D"
   ]
  },
  {
   "cell_type": "code",
   "execution_count": null,
   "outputs": [],
   "source": [
    "print(torch.cuda.is_available())"
   ],
   "metadata": {
    "collapsed": false
   }
  },
  {
   "cell_type": "code",
   "execution_count": null,
   "outputs": [],
   "source": [
    "beta = 0.1\n",
    "gamma = 0.04\n",
    "Ds=1e-4+3e-5 # three diffusion constants\n",
    "Di=1e-4\n",
    "Dr=1e-4+3e-5\n",
    "tot=1"
   ],
   "metadata": {
    "collapsed": false
   }
  },
  {
   "cell_type": "code",
   "execution_count": null,
   "outputs": [],
   "source": [
    "def boundary(_, on_initial):\n",
    "    return on_initial"
   ],
   "metadata": {
    "collapsed": false
   }
  },
  {
   "cell_type": "code",
   "execution_count": null,
   "outputs": [],
   "source": [
    "def func(x):\n",
    "    return np.exp((-(x[..., 0:1]-0.5)**2/(2*(0.2)**2)))/math.sqrt(2*np.pi)"
   ],
   "metadata": {
    "collapsed": false
   }
  },
  {
   "cell_type": "code",
   "execution_count": null,
   "outputs": [],
   "source": [
    "def func1(x):\n",
    "    return 1-0.05-func(x[:, 0:1])"
   ],
   "metadata": {
    "collapsed": false
   }
  },
  {
   "cell_type": "code",
   "execution_count": null,
   "outputs": [],
   "source": [
    "def pde_system(x, y):\n",
    "    S, I,R = y[:, 0:1], y[:, 1:2], y[:,2:3]\n",
    "    ds_t = dde.grad.jacobian(y, x, i=0,j=1)\n",
    "    di_t = dde.grad.jacobian(y, x, i=1,j=1)\n",
    "    dr_t = dde.grad.jacobian(y, x, i=2,j=1)\n",
    "    ds_xx = dde.grad.hessian(y, x, i=0,j=0,component=0)\n",
    "    di_xx = dde.grad.hessian(y, x, i=0,j=0,component=1)\n",
    "    dr_xx = dde.grad.hessian(y, x, i=0,j=0,component=2)\n",
    "    return [ds_t+beta*I*S/tot-Ds*ds_xx, di_t-beta*I*S/tot+gamma*I-Di*di_xx, dr_t-gamma*I-Dr*dr_xx,S+I+R-tot]"
   ],
   "metadata": {
    "collapsed": false
   }
  },
  {
   "cell_type": "code",
   "execution_count": null,
   "outputs": [],
   "source": [
    "def output_transform(x,y):\n",
    "    return y*y+1e-6"
   ],
   "metadata": {
    "collapsed": false
   }
  },
  {
   "cell_type": "code",
   "execution_count": null,
   "outputs": [],
   "source": [
    "timdomain = dde.geometry.TimeDomain(0, 100)\n",
    "geom=dde.geometry.Interval(0,1)\n",
    "geomtime=dde.geometry.GeometryXTime(geom,timdomain)\n",
    "ic1 = dde.icbc.IC(geomtime, func1, lambda _, on_initial:on_initial,component=0)\n",
    "ic2 = dde.icbc.IC(geomtime, func, lambda _, on_initial:on_initial,component=1)\n",
    "ic3 = dde.icbc.IC(geomtime, lambda x: 0.05, lambda _, on_initial:on_initial,component=2)\n",
    "data = dde.data.TimePDE(geomtime, pde_system, [ic1,ic2,ic3], 3000, num_initial=100, num_test=100)\n",
    "layer_size = [2,20,80,256,120,40,3]\n",
    "activation = \"elu\"\n",
    "initializer = \"Glorot normal\"\n",
    "net = dde.nn.FNN(layer_size, activation, initializer)\n",
    "net.apply_output_transform(output_transform)"
   ],
   "metadata": {
    "collapsed": false
   }
  },
  {
   "cell_type": "code",
   "execution_count": null,
   "outputs": [],
   "source": [
    "model = dde.Model(data, net)\n",
    "model.compile(\"adam\", lr=0.001)\n",
    "losshistory, train_state = model.train(iterations=50000)\n",
    "# Most backends except jax can have a second fine tuning of the solution"
   ],
   "metadata": {
    "collapsed": false
   }
  },
  {
   "cell_type": "code",
   "execution_count": null,
   "outputs": [],
   "source": [
    "X = torch.arange(0, 1, 0.01)\n",
    "#T = torch.zeros(100)\n",
    "T = torch.arange(0, 100, 0.5)\n",
    "X, T = torch.meshgrid(X, T)"
   ],
   "metadata": {
    "collapsed": false
   }
  },
  {
   "cell_type": "code",
   "execution_count": null,
   "outputs": [],
   "source": [
    "#mesh=torch.stack((X,T),dim=-1)\n",
    "inputs=torch.stack((X,T),dim=-1)\n",
    "print(inputs.shape)"
   ],
   "metadata": {
    "collapsed": false
   }
  },
  {
   "cell_type": "code",
   "execution_count": null,
   "outputs": [],
   "source": [
    "Z=net(inputs.cuda())"
   ],
   "metadata": {
    "collapsed": false
   }
  },
  {
   "cell_type": "code",
   "execution_count": null,
   "outputs": [],
   "source": [
    "print(Z.shape)"
   ],
   "metadata": {
    "collapsed": false
   }
  },
  {
   "cell_type": "code",
   "execution_count": null,
   "outputs": [],
   "source": [
    "from matplotlib import cm\n",
    "from matplotlib.ticker import LinearLocator"
   ],
   "metadata": {
    "collapsed": false
   }
  },
  {
   "cell_type": "code",
   "execution_count": null,
   "outputs": [],
   "source": [
    "%matplotlib notebook\n",
    "fig, ax = plt.subplots(subplot_kw={\"projection\": \"3d\"})\n",
    "surf = ax.plot_surface(X.detach().cpu().numpy(), T.detach().cpu().numpy(), Z[:,:,1].detach().cpu().numpy(),cmap=cm.viridis,linewidth=10, antialiased=False)\n",
    "plt.show()"
   ],
   "metadata": {
    "collapsed": false
   }
  },
  {
   "cell_type": "code",
   "execution_count": null,
   "outputs": [],
   "source": [
    "print(matplotlib.get_backend())"
   ],
   "metadata": {
    "collapsed": false
   }
  }
 ],
 "metadata": {
  "kernelspec": {
   "display_name": "Python 3",
   "language": "python",
   "name": "python3"
  },
  "language_info": {
   "codemirror_mode": {
    "name": "ipython",
    "version": 2
   },
   "file_extension": ".py",
   "mimetype": "text/x-python",
   "name": "python",
   "nbconvert_exporter": "python",
   "pygments_lexer": "ipython2",
   "version": "2.7.6"
  }
 },
 "nbformat": 4,
 "nbformat_minor": 0
}
