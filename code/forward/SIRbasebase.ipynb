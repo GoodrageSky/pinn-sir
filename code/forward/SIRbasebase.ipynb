{
 "cells": [
  {
   "cell_type": "code",
   "execution_count": null,
   "metadata": {
    "collapsed": true
   },
   "outputs": [],
   "source": [
    "import deepxde as dde\n",
    "import matplotlib.pyplot as plt\n",
    "import numpy as np\n",
    "from scipy import integrate\n",
    "import torch\n",
    "from mpl_toolkits.mplot3d import Axes3D"
   ]
  },
  {
   "cell_type": "code",
   "execution_count": null,
   "outputs": [],
   "source": [
    "print(torch.cuda.is_available())"
   ],
   "metadata": {
    "collapsed": false
   }
  },
  {
   "cell_type": "code",
   "execution_count": null,
   "outputs": [],
   "source": [
    "beta = 0.0921\n",
    "gamma = 0.0492\n",
    "tot=1\n",
    "\n",
    "#def func(s, i,r):\n",
    "#    ds_t = miu-miu*s-beta*s*i\n",
    "#    di_t = -miu*i+beta*s*i-gamma*i\n",
    "#    dr_t = gamma*i-miu*r\n",
    "#    return ds_t,di_t,dr_t"
   ],
   "metadata": {
    "collapsed": false
   }
  },
  {
   "cell_type": "code",
   "execution_count": null,
   "outputs": [],
   "source": [
    "def boundary(_, on_initial):\n",
    "    return on_initial"
   ],
   "metadata": {
    "collapsed": false
   }
  },
  {
   "cell_type": "code",
   "execution_count": null,
   "outputs": [],
   "source": [
    "def ode_system(x, y):\n",
    "    S, I,R = y[:, 0:1], y[:, 1:2], y[:,2:3]\n",
    "    ds_x = dde.grad.jacobian(y, x, i=0)\n",
    "    di_x = dde.grad.jacobian(y, x, i=1)\n",
    "    dr_x = dde.grad.jacobian(y, x, i=2)\n",
    "    return [ds_x+beta*I*S/tot, di_x-beta*I*S/tot+gamma*I, dr_x-gamma*I,S+I+R-tot]"
   ],
   "metadata": {
    "collapsed": false
   }
  },
  {
   "cell_type": "code",
   "execution_count": null,
   "outputs": [],
   "source": [
    "geom = dde.geometry.TimeDomain(0, 150)\n",
    "ic1 = dde.icbc.IC(geom, lambda x: 0.968, boundary, component=0)\n",
    "ic2 = dde.icbc.IC(geom, lambda x: 0.031667, boundary, component=1)\n",
    "ic3 = dde.icbc.IC(geom, lambda x: 0.000333, boundary, component=2)\n",
    "data = dde.data.PDE(geom, ode_system, [ic1,ic2,ic3], 3000, 100, num_test=100)\n",
    "\n",
    "layer_size = [1,20,80,256,40,3]\n",
    "activation = \"elu\"\n",
    "initializer = \"Glorot normal\"\n",
    "net = dde.nn.FNN(layer_size, activation, initializer)"
   ],
   "metadata": {
    "collapsed": false
   }
  },
  {
   "cell_type": "code",
   "execution_count": null,
   "outputs": [],
   "source": [
    "model = dde.Model(data, net)\n",
    "model.compile(\"adam\", lr=0.001)\n",
    "losshistory, train_state = model.train(iterations=50000)\n",
    "# Most backends except jax can have a second fine tuning of the solution\n"
   ],
   "metadata": {
    "collapsed": false
   }
  },
  {
   "cell_type": "code",
   "execution_count": null,
   "outputs": [],
   "source": [
    "from deepxde.utils.external import *"
   ],
   "metadata": {
    "collapsed": false
   }
  },
  {
   "cell_type": "code",
   "execution_count": null,
   "outputs": [],
   "source": [
    "def pack_data(train_state):\n",
    "    def merge_values(values):\n",
    "        if values is None:\n",
    "            return None\n",
    "        return np.hstack(values) if isinstance(values, (list, tuple)) else values\n",
    "\n",
    "    y_train = merge_values(train_state.y_train)\n",
    "    y_test = merge_values(train_state.y_test)\n",
    "    best_y = merge_values(train_state.best_y)\n",
    "    best_ystd = merge_values(train_state.best_ystd)\n",
    "    return y_train, y_test, best_y, best_ystd\n",
    "s = pack_data(train_state)"
   ],
   "metadata": {
    "collapsed": false
   }
  },
  {
   "cell_type": "code",
   "execution_count": null,
   "outputs": [],
   "source": [
    "def myplot_best_state(train_state):\n",
    "    \"\"\"Plot the best result of the smallest training loss.\n",
    "\n",
    "    This function only works for 1D and 2D problems. For other problems and to better\n",
    "    customize the figure, use ``save_best_state()``.\n",
    "\n",
    "    Note:\n",
    "        You need to call ``plt.show()`` to show the figure.\n",
    "\n",
    "    Args:\n",
    "        train_state: ``TrainState`` instance. The second variable returned from\n",
    "            ``Model.train()``.\n",
    "    \"\"\"\n",
    "    if isinstance(train_state.X_train, (list, tuple)):\n",
    "        print(\n",
    "            \"Error: The network has multiple inputs, and plotting such result han't been implemented.\"\n",
    "        )\n",
    "        return\n",
    "\n",
    "    y_train, y_test, best_y, best_ystd = pack_data(train_state)\n",
    "    y_dim = best_y.shape[1]\n",
    "\n",
    "    # Regression plot\n",
    "    # 1D\n",
    "    if train_state.X_test.shape[1] == 1:\n",
    "        idx = np.argsort(train_state.X_test[:, 0])\n",
    "        X = train_state.X_test[idx, 0]\n",
    "        plt.figure()\n",
    "        bestval=-1,mxval=-1\n",
    "        for i in range(y_dim):\n",
    "            if y_train is not None:\n",
    "                plt.plot(train_state.X_train[:, 0], y_train[:, i], \"ok\", label=\"Train\")\n",
    "            if y_test is not None:\n",
    "                plt.plot(X, y_test[idx, i], \"-k\", label=\"True\")\n",
    "            if i==0:\n",
    "                plt.plot(X, best_y[idx, i], color='red', label=\"S\")\n",
    "            elif i==1:\n",
    "                plt.plot(X, best_y[idx, i], color='green', label=\"I\")\n",
    "                if best_y[idx, i]>mxval:\n",
    "                    mxval=best_y[idx, i]\n",
    "                    bestval=i\n",
    "            else:\n",
    "                plt.plot(X, best_y[idx, i], color='blue', label=\"R\")\n",
    "            if best_ystd is not None:\n",
    "                plt.plot(\n",
    "                    X, best_y[idx, i] + 2 * best_ystd[idx, i], \"-b\", label=\"95% CI\"\n",
    "                )\n",
    "                plt.plot(X, best_y[idx, i] - 2 * best_ystd[idx, i], \"-b\")\n",
    "        plt.xlabel(\"x\")\n",
    "        plt.ylabel(\"y\")\n",
    "        plt.legend()\n",
    "        print(bestval)\n",
    "    # 2D\n",
    "    elif train_state.X_test.shape[1] == 2:\n",
    "        for i in range(y_dim):\n",
    "            plt.figure()\n",
    "            ax = plt.axes(projection=Axes3D.name)\n",
    "            ax.plot3D(\n",
    "                train_state.X_test[:, 0],\n",
    "                train_state.X_test[:, 1],\n",
    "                best_y[:, i],\n",
    "                \".\",\n",
    "            )\n",
    "            ax.set_xlabel(\"$x_1$\")\n",
    "            ax.set_ylabel(\"$x_2$\")\n",
    "            ax.set_zlabel(\"$y_{}$\".format(i + 1))\n"
   ],
   "metadata": {
    "collapsed": false
   }
  },
  {
   "cell_type": "code",
   "execution_count": null,
   "outputs": [],
   "source": [
    "myplot_best_state(train_state)"
   ],
   "metadata": {
    "collapsed": false,
    "is_executing": true
   }
  },
  {
   "cell_type": "code",
   "execution_count": null,
   "outputs": [],
   "source": [],
   "metadata": {
    "collapsed": false
   }
  }
 ],
 "metadata": {
  "kernelspec": {
   "display_name": "Python 3",
   "language": "python",
   "name": "python3"
  },
  "language_info": {
   "codemirror_mode": {
    "name": "ipython",
    "version": 2
   },
   "file_extension": ".py",
   "mimetype": "text/x-python",
   "name": "python",
   "nbconvert_exporter": "python",
   "pygments_lexer": "ipython2",
   "version": "2.7.6"
  }
 },
 "nbformat": 4,
 "nbformat_minor": 0
}
