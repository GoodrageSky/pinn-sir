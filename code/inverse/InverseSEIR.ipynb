{
 "cells": [
  {
   "cell_type": "code",
   "execution_count": null,
   "metadata": {
    "collapsed": true
   },
   "outputs": [],
   "source": [
    "import pandas as pd\n",
    "import deepxde as dde\n",
    "import numpy as np"
   ]
  },
  {
   "cell_type": "code",
   "execution_count": null,
   "outputs": [],
   "source": [
    "import torch\n",
    "print(torch.cuda.is_available())"
   ],
   "metadata": {
    "collapsed": false
   }
  },
  {
   "cell_type": "code",
   "execution_count": null,
   "outputs": [],
   "source": [
    "df=pd.read_csv(\"sars_2003_complete_dataset_clean.csv\")\n",
    "#... data arrangement goes here\n",
    "#Finish with the order of: Suspected, Infected, Recovered\n",
    "ndf=ndf.reindex(columns=['sus','infected','Number recovered'])\n",
    "ndf=ndf.reindex(columns=['sus','infected','Number recovered'])"
   ],
   "metadata": {
    "collapsed": false
   }
  },
  {
   "cell_type": "code",
   "execution_count": null,
   "outputs": [],
   "source": [
    "print(ndf)"
   ],
   "metadata": {
    "collapsed": false
   }
  },
  {
   "cell_type": "code",
   "execution_count": null,
   "outputs": [],
   "source": [
    "#ndf['sus']=ndf['sus']/tot\n",
    "#ndf.insert(loc=3, column='e', value=0)\n",
    "#ndf['infected']=ndf['infected']/tot"
   ],
   "metadata": {
    "collapsed": false
   }
  },
  {
   "cell_type": "code",
   "execution_count": null,
   "outputs": [],
   "source": [
    "ndf=ndf.reindex(columns=['sus','infected','Number recovered','e'])\n",
    "ndf['sus']=ndf['sus']/tot\n",
    "ndf['infected']=ndf['infected']/tot\n",
    "ndf['Number recovered']=ndf['Number recovered']/tot\n",
    "tot=1\n",
    "print(ndf)\n",
    "narray=np.array(ndf)"
   ],
   "metadata": {
    "collapsed": false
   }
  },
  {
   "cell_type": "code",
   "execution_count": null,
   "outputs": [],
   "source": [
    "def gen_traindata():\n",
    "    return np.arange(1,96+1),narray"
   ],
   "metadata": {
    "collapsed": false
   }
  },
  {
   "cell_type": "code",
   "execution_count": null,
   "outputs": [],
   "source": [
    "beta = dde.Variable(0.1)\n",
    "gamma = dde.Variable(0.1)\n",
    "eps = dde.Variable(0.1)"
   ],
   "metadata": {
    "collapsed": false
   }
  },
  {
   "cell_type": "code",
   "execution_count": null,
   "outputs": [],
   "source": [
    "def ode_system(x, y):\n",
    "    SE,I,R,E = y[:, 0:1], y[:, 1:2], y[:,2:3], y[:,3:4]\n",
    "    ds_x = dde.grad.jacobian(y, x, i=0)\n",
    "    di_x = dde.grad.jacobian(y, x, i=1)\n",
    "    dr_x = dde.grad.jacobian(y, x, i=2)\n",
    "    de_x = dde.grad.jacobian(y, x, i=3)\n",
    "    return [ds_x-eps*E,di_x-eps*E+(gamma)*I,dr_x-gamma*I,de_x-beta*I*(SE-E)/tot+eps*E,SE+I+R-tot]"
   ],
   "metadata": {
    "collapsed": false
   }
  },
  {
   "cell_type": "code",
   "execution_count": null,
   "outputs": [],
   "source": [
    "def boundary(_, on_initial):\n",
    "    return on_initial\n",
    "\n",
    "geom = dde.geometry.TimeDomain(0, 100)\n",
    "ic1 = dde.icbc.IC(geom, lambda x: 0.968, boundary, component=0)\n",
    "ic2 = dde.icbc.IC(geom, lambda x: 0.031, boundary, component=1)\n",
    "ic3 = dde.icbc.IC(geom, lambda x: 0.001, boundary, component=2)"
   ],
   "metadata": {
    "collapsed": false
   }
  },
  {
   "cell_type": "code",
   "execution_count": null,
   "outputs": [],
   "source": [
    "def output_transform(t,y):\n",
    "    y1 = y[:, 0:1]\n",
    "    y2 = y[:, 1:2]\n",
    "    y3 = y[:, 2:3]\n",
    "    y4 = y[:, 3:4]\n",
    "    return torch.cat([torch.abs(y1)+1e-6,torch.abs(y2)+1e-6,torch.abs(y3)+1e-6,torch.abs(y4)+1e-6],dim=1)"
   ],
   "metadata": {
    "collapsed": false
   }
  },
  {
   "cell_type": "code",
   "execution_count": null,
   "outputs": [],
   "source": [
    "layer_size = [1,20,80,256,40,4]\n",
    "activation = \"elu\"\n",
    "initializer = \"Glorot normal\"\n",
    "net = dde.nn.FNN(layer_size, activation, initializer)\n",
    "observe_t, ob_y = gen_traindata()\n",
    "observe_SE = dde.icbc.PointSetBC(observe_t[:,None].astype(float), ob_y[:, 0:1].astype(float),component=0)\n",
    "observe_I = dde.icbc.PointSetBC(observe_t[:,None].astype(float), ob_y[:, 1:2].astype(float), component=1)\n",
    "observe_R = dde.icbc.PointSetBC(observe_t[:,None].astype(float), ob_y[:, 2:3].astype(float), component=2)"
   ],
   "metadata": {
    "collapsed": false
   }
  },
  {
   "cell_type": "code",
   "execution_count": null,
   "outputs": [],
   "source": [
    "data = dde.data.PDE(\n",
    "    geom,\n",
    "    ode_system,\n",
    "    [ic1, ic2, ic3, observe_SE, observe_I, observe_R],\n",
    "    num_domain=400,\n",
    "    num_boundary=10,\n",
    "    anchors=observe_t[:,None].astype(float),\n",
    ")"
   ],
   "metadata": {
    "collapsed": false
   }
  },
  {
   "cell_type": "code",
   "execution_count": null,
   "outputs": [],
   "source": [
    "net = dde.nn.FNN(layer_size, activation, initializer)\n",
    "net.apply_output_transform(output_transform)\n",
    "model = dde.Model(data, net)\n",
    "model.compile(\"adam\", lr=0.001, external_trainable_variables=[beta, gamma,eps])\n",
    "variable = dde.callbacks.VariableValue(\n",
    "   [beta, gamma, eps], period=600, filename=\"variables.dat\"\n",
    ")\n",
    "losshistory, train_state = model.train(iterations=50000,callbacks=[variable])\n",
    "\n",
    "# train lbfgs"
   ],
   "metadata": {
    "collapsed": false
   }
  },
  {
   "cell_type": "code",
   "execution_count": null,
   "outputs": [],
   "source": [
    "print(beta,gamma,eps)"
   ],
   "metadata": {
    "collapsed": false
   }
  },
  {
   "cell_type": "code",
   "execution_count": null,
   "outputs": [],
   "source": [
    "model.compile(\"L-BFGS\", external_trainable_variables=[beta, gamma,eps])\n",
    "variable = dde.callbacks.VariableValue(\n",
    "   [beta, gamma, eps], period=600, filename=\"variables.dat\"\n",
    ")\n",
    "losshistory, train_state = model.train(callbacks=[variable])"
   ],
   "metadata": {
    "collapsed": false
   }
  },
  {
   "cell_type": "code",
   "execution_count": null,
   "outputs": [],
   "source": [
    "from deepxde.utils.external import *\n",
    "def pack_data(train_state):\n",
    "    def merge_values(values):\n",
    "        if values is None:\n",
    "            return None\n",
    "        return np.hstack(values) if isinstance(values, (list, tuple)) else values\n",
    "\n",
    "    y_train = merge_values(train_state.y_train)\n",
    "    y_test = merge_values(train_state.y_test)\n",
    "    best_y = merge_values(train_state.best_y)\n",
    "    best_ystd = merge_values(train_state.best_ystd)\n",
    "    print(best_y.shape)\n",
    "    return y_train, y_test, best_y, best_ystd\n",
    "s = pack_data(train_state)"
   ],
   "metadata": {
    "collapsed": false
   }
  },
  {
   "cell_type": "code",
   "execution_count": null,
   "outputs": [],
   "source": [
    "def myplot_best_state(train_state):\n",
    "    if isinstance(train_state.X_train, (list, tuple)):\n",
    "        print(\n",
    "            \"Error: The network has multiple inputs, and plotting such result han't been implemented.\"\n",
    "        )\n",
    "        return\n",
    "    y_train, y_test, best_y, best_ystd = pack_data(train_state)\n",
    "    y_dim = best_y.shape[1]\n",
    "    # Regression plot\n",
    "    # 1D\n",
    "    if train_state.X_test.shape[1] == 1:\n",
    "        idx = np.argsort(train_state.X_test[:, 0])\n",
    "        X = train_state.X_test[idx, 0]\n",
    "        plt.figure()\n",
    "        for i in range(y_dim):\n",
    "            if y_train is not None:\n",
    "                plt.plot(train_state.X_train[:, 0], y_train[:, i], \"ok\", label=\"Train\")\n",
    "            if y_test is not None:\n",
    "                plt.plot(X, y_test[idx, i], \"-k\", label=\"True\")\n",
    "            if i==0:\n",
    "                plt.plot(X, best_y[idx, i]-best_y[idx, 3], color='red', label=\"S\")\n",
    "            elif i==1:\n",
    "                plt.plot(X, best_y[idx, i], color='green', label=\"I\")\n",
    "            elif i==2:\n",
    "                plt.plot(X, best_y[idx, i], color='blue', label=\"R\")\n",
    "            else:\n",
    "                plt.plot(X, best_y[idx, i], color='purple', label=\"E\")\n",
    "            if best_ystd is not None:\n",
    "                plt.plot(\n",
    "                    X, best_y[idx, i] + 2 * best_ystd[idx, i], \"-b\", label=\"95% CI\"\n",
    "                )\n",
    "                plt.plot(X, best_y[idx, i] - 2 * best_ystd[idx, i], \"-b\")\n",
    "        plt.xlabel(\"x\")\n",
    "        plt.ylabel(\"y\")\n",
    "        plt.legend()\n"
   ],
   "metadata": {
    "collapsed": false
   }
  },
  {
   "cell_type": "code",
   "execution_count": null,
   "outputs": [],
   "source": [
    "myplot_best_state(train_state)"
   ],
   "metadata": {
    "collapsed": false
   }
  },
  {
   "cell_type": "code",
   "execution_count": null,
   "outputs": [],
   "source": [],
   "metadata": {
    "collapsed": false
   }
  }
 ],
 "metadata": {
  "kernelspec": {
   "display_name": "Python 3",
   "language": "python",
   "name": "python3"
  },
  "language_info": {
   "codemirror_mode": {
    "name": "ipython",
    "version": 2
   },
   "file_extension": ".py",
   "mimetype": "text/x-python",
   "name": "python",
   "nbconvert_exporter": "python",
   "pygments_lexer": "ipython2",
   "version": "2.7.6"
  }
 },
 "nbformat": 4,
 "nbformat_minor": 0
}
