{
 "cells": [
  {
   "cell_type": "code",
   "execution_count": 49,
   "metadata": {
    "collapsed": true,
    "ExecuteTime": {
     "end_time": "2023-08-20T03:37:32.098070400Z",
     "start_time": "2023-08-20T03:37:32.049849400Z"
    }
   },
   "outputs": [
    {
     "name": "stdout",
     "output_type": "stream",
     "text": [
      "True\n"
     ]
    }
   ],
   "source": [
    "import pandas as pd\n",
    "from pandas import DataFrame\n",
    "import deepxde as dde\n",
    "import numpy as np\n",
    "import matplotlib.pyplot as plt\n",
    "import torch\n",
    "print(torch.cuda.is_available())"
   ]
  },
  {
   "cell_type": "code",
   "execution_count": 66,
   "outputs": [],
   "source": [
    "df=pd.read_csv(\"sars_2003_complete_dataset_clean.csv\")\n",
    "ndf=df.loc[df['Country'] == 'Hong Kong SAR, China']\n",
    "tot=3000\n",
    "ndf=ndf.drop(labels='Country',axis=1)\n",
    "ndf=ndf.drop(labels='Date',axis=1)\n",
    "ndf['Number recovered']=(ndf['Number recovered']+ndf['Number of deaths'])\n",
    "ndf=ndf.drop(labels='Number of deaths',axis=1)\n",
    "ndf['infected']=ndf['Cumulative number of case(s)']-ndf['Number recovered'].shift(1)\n",
    "ndf=ndf.drop(\"Cumulative number of case(s)\",axis=1)\n",
    "ndf=ndf.fillna(95)\n",
    "ndf['sus']=tot-ndf.iloc[:,0:].sum(axis=1)\n",
    "ndf=ndf.reindex(columns=['sus','infected','Number recovered'])"
   ],
   "metadata": {
    "collapsed": false,
    "ExecuteTime": {
     "end_time": "2023-08-20T03:54:49.347599700Z",
     "start_time": "2023-08-20T03:54:49.321975600Z"
    }
   }
  },
  {
   "cell_type": "code",
   "execution_count": 67,
   "outputs": [],
   "source": [
    "ndf=ndf/tot\n",
    "datasize=96"
   ],
   "metadata": {
    "collapsed": false,
    "ExecuteTime": {
     "end_time": "2023-08-20T03:54:50.117070100Z",
     "start_time": "2023-08-20T03:54:50.113078600Z"
    }
   }
  },
  {
   "cell_type": "code",
   "execution_count": 68,
   "outputs": [
    {
     "name": "stdout",
     "output_type": "stream",
     "text": [
      "           sus  infected  Number recovered\n",
      "3     0.968000  0.031667          0.000333\n",
      "11    0.959000  0.040667          0.000333\n",
      "20    0.948667  0.049667          0.001667\n",
      "32    0.942000  0.056000          0.002000\n",
      "45    0.932333  0.065667          0.002000\n",
      "...        ...       ...               ...\n",
      "2386  0.415000  0.009000          0.576000\n",
      "2417  0.415000  0.009000          0.576000\n",
      "2448  0.414667  0.009000          0.576333\n",
      "2479  0.415000  0.008667          0.576333\n",
      "2510  0.414333  0.008667          0.577000\n",
      "\n",
      "[96 rows x 3 columns]\n"
     ]
    }
   ],
   "source": [
    "ndf=ndf.iloc[0:datasize,:]\n",
    "print(ndf)"
   ],
   "metadata": {
    "collapsed": false,
    "ExecuteTime": {
     "end_time": "2023-08-20T03:54:51.194828700Z",
     "start_time": "2023-08-20T03:54:51.191836300Z"
    }
   }
  },
  {
   "cell_type": "code",
   "execution_count": 69,
   "outputs": [
    {
     "name": "stdout",
     "output_type": "stream",
     "text": [
      "(96, 4)\n",
      "28\n"
     ]
    },
    {
     "data": {
      "text/plain": "<Figure size 640x480 with 1 Axes>",
      "image/png": "[encoded data removed]"
     },
     "metadata": {},
     "output_type": "display_data"
    }
   ],
   "source": [
    "xxx=np.arange(1,datasize+1)\n",
    "xxx=xxx.reshape(datasize,1)\n",
    "narray=np.array(ndf)\n",
    "xarray=np.concatenate((narray,xxx),axis=1)\n",
    "print(xarray.shape)\n",
    "s=xarray[:,0]\n",
    "i=xarray[:,1]\n",
    "r=xarray[:,2]\n",
    "x=xarray[:,3]\n",
    "besttval=-1\n",
    "mxval=-1\n",
    "for ii in range(0,xarray.shape[0]):\n",
    "    if i[ii]>mxval:\n",
    "        mxval=i[ii]\n",
    "        besttval=ii\n",
    "print(besttval)\n",
    "plt.figure()\n",
    "plt.scatter(x,s,c='red',s=10,)\n",
    "plt.scatter(x,i,c='green',s=10)\n",
    "plt.scatter(x,r,c='blue',s=10)\n",
    "plt.legend(['S','I','R'],loc='best')\n",
    "plt.show()"
   ],
   "metadata": {
    "collapsed": false,
    "ExecuteTime": {
     "end_time": "2023-08-20T03:54:52.778876700Z",
     "start_time": "2023-08-20T03:54:52.576659500Z"
    }
   }
  },
  {
   "cell_type": "code",
   "execution_count": 54,
   "outputs": [],
   "source": [
    "def gen_traindata():\n",
    "    data = narray\n",
    "    return np.arange(1,datasize+1),narray"
   ],
   "metadata": {
    "collapsed": false,
    "ExecuteTime": {
     "end_time": "2023-08-20T03:37:34.732943200Z",
     "start_time": "2023-08-20T03:37:34.723956300Z"
    }
   }
  },
  {
   "cell_type": "code",
   "execution_count": 55,
   "outputs": [],
   "source": [
    "beta = dde.Variable(0.1)\n",
    "gamma = dde.Variable(0.1)"
   ],
   "metadata": {
    "collapsed": false,
    "ExecuteTime": {
     "end_time": "2023-08-20T03:37:35.633248200Z",
     "start_time": "2023-08-20T03:37:35.627269900Z"
    }
   }
  },
  {
   "cell_type": "code",
   "execution_count": 56,
   "outputs": [],
   "source": [
    "def ode_system(x, y):\n",
    "    S, I,R = y[:, 0:1], y[:, 1:2], y[:,2:3]\n",
    "    ds_x = dde.grad.jacobian(y, x, i=0)\n",
    "    di_x = dde.grad.jacobian(y, x, i=1)\n",
    "    dr_x = dde.grad.jacobian(y, x, i=2)\n",
    "    return [ds_x+beta*I*S, di_x-beta*I*S+gamma*I, dr_x-gamma*I,S+I+R-1]"
   ],
   "metadata": {
    "collapsed": false,
    "ExecuteTime": {
     "end_time": "2023-08-20T03:37:36.339390200Z",
     "start_time": "2023-08-20T03:37:36.318096700Z"
    }
   }
  },
  {
   "cell_type": "code",
   "execution_count": 57,
   "outputs": [],
   "source": [
    "def boundary(_, on_initial):\n",
    "    return on_initial\n",
    "\n",
    "geom = dde.geometry.TimeDomain(0, 150)\n",
    "ic1 = dde.icbc.IC(geom, lambda x: 0.968, boundary, component=0)\n",
    "ic2 = dde.icbc.IC(geom, lambda x: 0.031667, boundary, component=1)\n",
    "ic3 = dde.icbc.IC(geom, lambda x: 0.000333, boundary, component=2)"
   ],
   "metadata": {
    "collapsed": false,
    "ExecuteTime": {
     "end_time": "2023-08-20T03:37:37.506386500Z",
     "start_time": "2023-08-20T03:37:37.458672Z"
    }
   }
  },
  {
   "cell_type": "code",
   "execution_count": 58,
   "outputs": [],
   "source": [
    "layer_size = [1,20,80,256,40,3]\n",
    "activation = \"elu\"\n",
    "initializer = \"Glorot normal\"\n",
    "net = dde.nn.FNN(layer_size, activation, initializer)\n",
    "observe_t, ob_y = gen_traindata()\n",
    "observe_S = dde.icbc.PointSetBC(observe_t[:,None].astype(float), ob_y[:, 0:1].astype(float), component=0)\n",
    "observe_I = dde.icbc.PointSetBC(observe_t[:,None].astype(float), ob_y[:, 1:2].astype(float), component=1)\n",
    "observe_R = dde.icbc.PointSetBC(observe_t[:,None].astype(float), ob_y[:, 2:3].astype(float), component=2)"
   ],
   "metadata": {
    "collapsed": false,
    "ExecuteTime": {
     "end_time": "2023-08-20T03:37:38.180280600Z",
     "start_time": "2023-08-20T03:37:38.173299300Z"
    }
   }
  },
  {
   "cell_type": "code",
   "execution_count": 59,
   "outputs": [],
   "source": [
    "data = dde.data.PDE(\n",
    "    geom,\n",
    "    ode_system,\n",
    "    [ic1, ic2, ic3, observe_S, observe_I, observe_R],\n",
    "    num_domain=400,\n",
    "    num_boundary=10,\n",
    "    anchors=observe_t[:,None].astype(float),\n",
    ")"
   ],
   "metadata": {
    "collapsed": false,
    "ExecuteTime": {
     "end_time": "2023-08-20T03:37:38.873344700Z",
     "start_time": "2023-08-20T03:37:38.856605200Z"
    }
   }
  },
  {
   "cell_type": "code",
   "execution_count": 60,
   "outputs": [
    {
     "name": "stdout",
     "output_type": "stream",
     "text": [
      "Compiling model...\n",
      "'compile' took 0.000187 s\n",
      "\n",
      "Training model...\n",
      "\n",
      "0         [1.31e+00, 9.28e-01, 1.05e-02, 8.21e+01, 9.37e-01, 1.00e-03, 1.11e-07, 2.81e-01, 2.14e-02, 3.05e-01]    [1.31e+00, 9.28e-01, 1.05e-02, 8.21e+01, 9.37e-01, 1.00e-03, 1.11e-07, 2.81e-01, 2.14e-02, 3.05e-01]    []  \n",
      "1000      [3.57e-05, 5.58e-05, 3.79e-05, 1.58e-05, 5.72e-07, 1.96e-08, 2.39e-08, 1.22e-04, 9.05e-05, 5.33e-06]    [3.57e-05, 5.58e-05, 3.79e-05, 1.58e-05, 5.72e-07, 1.96e-08, 2.39e-08, 1.22e-04, 9.05e-05, 5.33e-06]    []  \n",
      "2000      [2.38e-05, 2.86e-05, 1.60e-05, 8.31e-06, 4.20e-07, 5.72e-08, 1.98e-09, 7.90e-05, 6.46e-05, 2.36e-06]    [2.38e-05, 2.86e-05, 1.60e-05, 8.31e-06, 4.20e-07, 5.72e-08, 1.98e-09, 7.90e-05, 6.46e-05, 2.36e-06]    []  \n",
      "3000      [1.86e-05, 2.38e-05, 5.37e-06, 1.72e-05, 1.87e-07, 3.13e-08, 1.97e-11, 7.12e-05, 5.96e-05, 2.05e-06]    [1.86e-05, 2.38e-05, 5.37e-06, 1.72e-05, 1.87e-07, 3.13e-08, 1.97e-11, 7.12e-05, 5.96e-05, 2.05e-06]    []  \n",
      "4000      [1.28e-05, 1.65e-05, 2.03e-06, 3.64e-05, 8.71e-10, 9.97e-08, 5.75e-08, 6.77e-05, 6.08e-05, 8.13e-07]    [1.28e-05, 1.65e-05, 2.03e-06, 3.64e-05, 8.71e-10, 9.97e-08, 5.75e-08, 6.77e-05, 6.08e-05, 8.13e-07]    []  \n",
      "5000      [1.12e-05, 1.44e-05, 1.96e-06, 1.52e-06, 5.02e-08, 1.38e-08, 2.00e-10, 6.33e-05, 5.34e-05, 9.28e-07]    [1.12e-05, 1.44e-05, 1.96e-06, 1.52e-06, 5.02e-08, 1.38e-08, 2.00e-10, 6.33e-05, 5.34e-05, 9.28e-07]    []  \n",
      "6000      [1.21e-05, 1.39e-05, 1.61e-06, 2.81e-04, 1.53e-07, 9.77e-08, 3.06e-08, 6.97e-05, 5.59e-05, 3.57e-06]    [1.21e-05, 1.39e-05, 1.61e-06, 2.81e-04, 1.53e-07, 9.77e-08, 3.06e-08, 6.97e-05, 5.59e-05, 3.57e-06]    []  \n",
      "7000      [8.58e-06, 1.34e-05, 1.24e-06, 4.27e-06, 4.17e-08, 3.40e-09, 5.82e-09, 5.85e-05, 4.70e-05, 1.87e-06]    [8.58e-06, 1.34e-05, 1.24e-06, 4.27e-06, 4.17e-08, 3.40e-09, 5.82e-09, 5.85e-05, 4.70e-05, 1.87e-06]    []  \n",
      "8000      [1.16e-05, 1.52e-05, 1.16e-06, 3.59e-06, 1.19e-06, 1.45e-07, 4.55e-08, 8.72e-05, 4.94e-05, 6.04e-06]    [1.16e-05, 1.52e-05, 1.16e-06, 3.59e-06, 1.19e-06, 1.45e-07, 4.55e-08, 8.72e-05, 4.94e-05, 6.04e-06]    []  \n",
      "9000      [9.43e-06, 1.44e-05, 9.20e-07, 8.57e-07, 1.26e-09, 2.77e-09, 5.25e-11, 5.01e-05, 4.47e-05, 1.11e-06]    [9.43e-06, 1.44e-05, 9.20e-07, 8.57e-07, 1.26e-09, 2.77e-09, 5.25e-11, 5.01e-05, 4.47e-05, 1.11e-06]    []  \n",
      "10000     [8.93e-06, 1.41e-05, 1.04e-06, 5.00e-07, 1.58e-09, 1.35e-09, 3.77e-11, 4.90e-05, 4.45e-05, 8.36e-07]    [8.93e-06, 1.41e-05, 1.04e-06, 5.00e-07, 1.58e-09, 1.35e-09, 3.77e-11, 4.90e-05, 4.45e-05, 8.36e-07]    []  \n",
      "11000     [8.40e-06, 1.29e-05, 1.10e-06, 2.45e-07, 1.06e-09, 6.74e-10, 8.84e-11, 4.72e-05, 4.27e-05, 6.54e-07]    [8.40e-06, 1.29e-05, 1.10e-06, 2.45e-07, 1.06e-09, 6.74e-10, 8.84e-11, 4.72e-05, 4.27e-05, 6.54e-07]    []  \n",
      "12000     [8.48e-06, 1.21e-05, 9.36e-07, 7.27e-07, 3.68e-08, 2.16e-09, 6.07e-09, 4.56e-05, 4.18e-05, 7.24e-07]    [8.48e-06, 1.21e-05, 9.36e-07, 7.27e-07, 3.68e-08, 2.16e-09, 6.07e-09, 4.56e-05, 4.18e-05, 7.24e-07]    []  \n",
      "13000     [8.28e-06, 1.04e-05, 6.34e-07, 5.74e-05, 1.13e-06, 1.40e-07, 2.12e-07, 6.97e-05, 7.08e-05, 6.05e-05]    [8.28e-06, 1.04e-05, 6.34e-07, 5.74e-05, 1.13e-06, 1.40e-07, 2.12e-07, 6.97e-05, 7.08e-05, 6.05e-05]    []  \n",
      "14000     [7.37e-06, 9.21e-06, 5.35e-07, 6.63e-08, 2.22e-09, 2.05e-09, 1.92e-10, 4.19e-05, 3.85e-05, 2.47e-07]    [7.37e-06, 9.21e-06, 5.35e-07, 6.63e-08, 2.22e-09, 2.05e-09, 1.92e-10, 4.19e-05, 3.85e-05, 2.47e-07]    []  \n",
      "15000     [8.43e-06, 8.72e-06, 4.04e-07, 8.36e-05, 3.68e-06, 6.87e-07, 7.85e-07, 4.77e-05, 6.42e-05, 6.99e-06]    [8.43e-06, 8.72e-06, 4.04e-07, 8.36e-05, 3.68e-06, 6.87e-07, 7.85e-07, 4.77e-05, 6.42e-05, 6.99e-06]    []  \n",
      "16000     [6.65e-06, 7.07e-06, 3.60e-07, 2.89e-07, 7.76e-08, 1.80e-08, 5.49e-09, 3.77e-05, 3.45e-05, 2.16e-07]    [6.65e-06, 7.07e-06, 3.60e-07, 2.89e-07, 7.76e-08, 1.80e-08, 5.49e-09, 3.77e-05, 3.45e-05, 2.16e-07]    []  \n",
      "17000     [1.14e-05, 9.33e-06, 7.11e-07, 8.20e-04, 1.36e-05, 1.59e-05, 1.16e-05, 1.47e-04, 2.16e-04, 7.05e-05]    [1.14e-05, 9.33e-06, 7.11e-07, 8.20e-04, 1.36e-05, 1.59e-05, 1.16e-05, 1.47e-04, 2.16e-04, 7.05e-05]    []  \n",
      "18000     [5.75e-06, 6.77e-06, 5.58e-07, 9.93e-05, 1.06e-05, 1.17e-10, 5.00e-06, 3.66e-05, 4.00e-05, 9.58e-07]    [5.75e-06, 6.77e-06, 5.58e-07, 9.93e-05, 1.06e-05, 1.17e-10, 5.00e-06, 3.66e-05, 4.00e-05, 9.58e-07]    []  \n",
      "19000     [5.35e-06, 5.89e-06, 5.30e-07, 1.74e-06, 1.94e-07, 6.65e-10, 1.07e-07, 2.91e-05, 2.61e-05, 3.64e-07]    [5.35e-06, 5.89e-06, 5.30e-07, 1.74e-06, 1.94e-07, 6.65e-10, 1.07e-07, 2.91e-05, 2.61e-05, 3.64e-07]    []  \n",
      "20000     [5.24e-06, 5.57e-06, 7.12e-07, 4.56e-07, 5.38e-08, 6.48e-07, 1.13e-07, 2.62e-05, 2.30e-05, 5.77e-07]    [5.24e-06, 5.57e-06, 7.12e-07, 4.56e-07, 5.38e-08, 6.48e-07, 1.13e-07, 2.62e-05, 2.30e-05, 5.77e-07]    []  \n",
      "21000     [9.73e-06, 7.71e-06, 1.54e-06, 1.29e-04, 9.66e-09, 3.13e-07, 1.85e-07, 1.00e-04, 8.75e-05, 3.97e-05]    [9.73e-06, 7.71e-06, 1.54e-06, 1.29e-04, 9.66e-09, 3.13e-07, 1.85e-07, 1.00e-04, 8.75e-05, 3.97e-05]    []  \n",
      "22000     [5.89e-06, 6.03e-06, 4.04e-07, 3.90e-06, 1.22e-06, 4.66e-08, 1.66e-06, 2.04e-05, 1.93e-05, 9.96e-07]    [5.89e-06, 6.03e-06, 4.04e-07, 3.90e-06, 1.22e-06, 4.66e-08, 1.66e-06, 2.04e-05, 1.93e-05, 9.96e-07]    []  \n",
      "23000     [5.85e-06, 5.97e-06, 1.40e-07, 2.87e-06, 1.09e-07, 4.67e-08, 7.07e-08, 1.69e-05, 1.43e-05, 5.09e-07]    [5.85e-06, 5.97e-06, 1.40e-07, 2.87e-06, 1.09e-07, 4.67e-08, 7.07e-08, 1.69e-05, 1.43e-05, 5.09e-07]    []  \n",
      "24000     [7.72e-06, 7.49e-06, 5.97e-07, 7.71e-05, 4.90e-08, 1.43e-06, 1.80e-07, 3.84e-05, 5.20e-05, 2.44e-05]    [7.72e-06, 7.49e-06, 5.97e-07, 7.71e-05, 4.90e-08, 1.43e-06, 1.80e-07, 3.84e-05, 5.20e-05, 2.44e-05]    []  \n",
      "25000     [6.59e-06, 6.91e-06, 1.50e-07, 1.57e-05, 5.06e-09, 1.42e-06, 4.13e-07, 1.52e-05, 1.81e-05, 6.12e-06]    [6.59e-06, 6.91e-06, 1.50e-07, 1.57e-05, 5.06e-09, 1.42e-06, 4.13e-07, 1.52e-05, 1.81e-05, 6.12e-06]    []  \n",
      "26000     [6.47e-06, 6.27e-06, 1.89e-07, 3.85e-07, 7.65e-10, 6.50e-09, 1.94e-10, 1.49e-05, 1.28e-05, 6.37e-07]    [6.47e-06, 6.27e-06, 1.89e-07, 3.85e-07, 7.65e-10, 6.50e-09, 1.94e-10, 1.49e-05, 1.28e-05, 6.37e-07]    []  \n",
      "27000     [6.76e-06, 6.83e-06, 2.19e-07, 6.60e-06, 1.37e-08, 1.22e-07, 1.67e-07, 1.29e-05, 1.19e-05, 5.07e-07]    [6.76e-06, 6.83e-06, 2.19e-07, 6.60e-06, 1.37e-08, 1.22e-07, 1.67e-07, 1.29e-05, 1.19e-05, 5.07e-07]    []  \n",
      "28000     [4.56e-06, 6.29e-06, 1.19e-06, 2.17e-07, 2.27e-09, 1.53e-09, 3.53e-09, 3.88e-05, 3.51e-05, 1.30e-06]    [4.56e-06, 6.29e-06, 1.19e-06, 2.17e-07, 2.27e-09, 1.53e-09, 3.53e-09, 3.88e-05, 3.51e-05, 1.30e-06]    []  \n",
      "29000     [5.07e-06, 5.41e-06, 4.86e-07, 1.51e-07, 3.85e-09, 5.63e-11, 8.75e-10, 2.96e-05, 2.70e-05, 5.10e-07]    [5.07e-06, 5.41e-06, 4.86e-07, 1.51e-07, 3.85e-09, 5.63e-11, 8.75e-10, 2.96e-05, 2.70e-05, 5.10e-07]    []  \n",
      "30000     [5.85e-06, 6.16e-06, 5.01e-07, 1.29e-07, 1.36e-09, 7.00e-12, 4.09e-09, 1.81e-05, 1.52e-05, 6.62e-07]    [5.85e-06, 6.16e-06, 5.01e-07, 1.29e-07, 1.36e-09, 7.00e-12, 4.09e-09, 1.81e-05, 1.52e-05, 6.62e-07]    []  \n",
      "31000     [1.00e-05, 9.48e-06, 2.05e-07, 8.52e-04, 1.18e-05, 1.42e-05, 1.50e-06, 1.33e-04, 3.78e-05, 2.22e-05]    [1.00e-05, 9.48e-06, 2.05e-07, 8.52e-04, 1.18e-05, 1.42e-05, 1.50e-06, 1.33e-04, 3.78e-05, 2.22e-05]    []  \n",
      "32000     [6.94e-06, 6.81e-06, 1.87e-07, 1.05e-05, 4.14e-11, 3.61e-07, 9.87e-07, 1.56e-05, 1.29e-05, 4.18e-06]    [6.94e-06, 6.81e-06, 1.87e-07, 1.05e-05, 4.14e-11, 3.61e-07, 9.87e-07, 1.56e-05, 1.29e-05, 4.18e-06]    []  \n",
      "33000     [6.93e-06, 6.78e-06, 1.64e-07, 2.09e-06, 1.95e-08, 2.67e-08, 1.38e-08, 1.13e-05, 1.05e-05, 3.33e-07]    [6.93e-06, 6.78e-06, 1.64e-07, 2.09e-06, 1.95e-08, 2.67e-08, 1.38e-08, 1.13e-05, 1.05e-05, 3.33e-07]    []  \n",
      "34000     [7.15e-06, 7.05e-06, 1.32e-07, 1.10e-07, 5.33e-09, 4.33e-08, 4.53e-09, 1.05e-05, 9.67e-06, 2.75e-07]    [7.15e-06, 7.05e-06, 1.32e-07, 1.10e-07, 5.33e-09, 4.33e-08, 4.53e-09, 1.05e-05, 9.67e-06, 2.75e-07]    []  \n",
      "35000     [7.53e-06, 7.39e-06, 1.33e-07, 6.18e-06, 2.50e-07, 2.63e-07, 3.54e-08, 1.15e-05, 1.15e-05, 4.55e-07]    [7.53e-06, 7.39e-06, 1.33e-07, 6.18e-06, 2.50e-07, 2.63e-07, 3.54e-08, 1.15e-05, 1.15e-05, 4.55e-07]    []  \n",
      "36000     [7.41e-06, 7.21e-06, 1.04e-07, 3.74e-06, 1.59e-08, 2.42e-08, 1.50e-08, 9.80e-06, 9.51e-06, 3.16e-07]    [7.41e-06, 7.21e-06, 1.04e-07, 3.74e-06, 1.59e-08, 2.42e-08, 1.50e-08, 9.80e-06, 9.51e-06, 3.16e-07]    []  \n",
      "37000     [7.47e-06, 7.30e-06, 1.13e-07, 6.37e-06, 1.60e-07, 1.28e-09, 2.31e-08, 1.01e-05, 9.00e-06, 3.50e-07]    [7.47e-06, 7.30e-06, 1.13e-07, 6.37e-06, 1.60e-07, 1.28e-09, 2.31e-08, 1.01e-05, 9.00e-06, 3.50e-07]    []  \n",
      "38000     [7.54e-06, 7.18e-06, 1.71e-07, 9.64e-06, 9.19e-08, 3.31e-07, 1.29e-08, 1.01e-05, 9.88e-06, 1.79e-07]    [7.54e-06, 7.18e-06, 1.71e-07, 9.64e-06, 9.19e-08, 3.31e-07, 1.29e-08, 1.01e-05, 9.88e-06, 1.79e-07]    []  \n",
      "39000     [7.68e-06, 7.48e-06, 1.35e-07, 7.31e-07, 1.64e-08, 1.89e-09, 1.19e-10, 8.85e-06, 8.24e-06, 1.54e-07]    [7.68e-06, 7.48e-06, 1.35e-07, 7.31e-07, 1.64e-08, 1.89e-09, 1.19e-10, 8.85e-06, 8.24e-06, 1.54e-07]    []  \n",
      "40000     [7.45e-06, 7.18e-06, 2.46e-07, 5.67e-05, 6.35e-07, 1.21e-05, 9.56e-07, 1.01e-05, 3.05e-05, 5.44e-06]    [7.45e-06, 7.18e-06, 2.46e-07, 5.67e-05, 6.35e-07, 1.21e-05, 9.56e-07, 1.01e-05, 3.05e-05, 5.44e-06]    []  \n",
      "41000     [7.81e-06, 7.59e-06, 1.33e-07, 6.04e-08, 5.81e-09, 3.39e-08, 6.48e-09, 8.31e-06, 7.75e-06, 1.84e-07]    [7.81e-06, 7.59e-06, 1.33e-07, 6.04e-08, 5.81e-09, 3.39e-08, 6.48e-09, 8.31e-06, 7.75e-06, 1.84e-07]    []  \n",
      "42000     [7.86e-06, 7.62e-06, 1.67e-07, 3.34e-07, 9.97e-09, 4.12e-09, 2.76e-08, 8.12e-06, 7.57e-06, 1.39e-07]    [7.86e-06, 7.62e-06, 1.67e-07, 3.34e-07, 9.97e-09, 4.12e-09, 2.76e-08, 8.12e-06, 7.57e-06, 1.39e-07]    []  \n",
      "43000     [3.85e-05, 3.29e-05, 1.80e-06, 4.99e-06, 2.93e-06, 3.02e-06, 1.01e-06, 5.94e-05, 6.03e-05, 4.86e-06]    [3.85e-05, 3.29e-05, 1.80e-06, 4.99e-06, 2.93e-06, 3.02e-06, 1.01e-06, 5.94e-05, 6.03e-05, 4.86e-06]    []  \n",
      "44000     [1.23e-05, 1.81e-05, 2.47e-06, 1.57e-07, 9.57e-10, 2.26e-09, 3.98e-09, 3.88e-05, 3.82e-05, 1.24e-06]    [1.23e-05, 1.81e-05, 2.47e-06, 1.57e-07, 9.57e-10, 2.26e-09, 3.98e-09, 3.88e-05, 3.82e-05, 1.24e-06]    []  \n",
      "45000     [6.86e-06, 8.90e-06, 1.93e-06, 1.02e-06, 1.24e-08, 6.82e-09, 2.84e-08, 3.29e-05, 3.25e-05, 3.93e-07]    [6.86e-06, 8.90e-06, 1.93e-06, 1.02e-06, 1.24e-08, 6.82e-09, 2.84e-08, 3.29e-05, 3.25e-05, 3.93e-07]    []  \n",
      "46000     [5.20e-06, 5.02e-06, 1.08e-07, 1.71e-07, 5.35e-09, 9.48e-10, 1.49e-09, 2.12e-05, 2.06e-05, 1.00e-07]    [5.20e-06, 5.02e-06, 1.08e-07, 1.71e-07, 5.35e-09, 9.48e-10, 1.49e-09, 2.12e-05, 2.06e-05, 1.00e-07]    []  \n",
      "47000     [1.08e-05, 9.93e-06, 1.10e-07, 2.26e-05, 5.46e-05, 4.20e-06, 8.12e-06, 2.40e-04, 7.23e-05, 4.85e-06]    [1.08e-05, 9.93e-06, 1.10e-07, 2.26e-05, 5.46e-05, 4.20e-06, 8.12e-06, 2.40e-04, 7.23e-05, 4.85e-06]    []  \n",
      "48000     [6.85e-06, 6.58e-06, 9.42e-08, 5.83e-06, 5.33e-07, 9.61e-07, 3.76e-07, 1.53e-05, 1.78e-05, 1.47e-06]    [6.85e-06, 6.58e-06, 9.42e-08, 5.83e-06, 5.33e-07, 9.61e-07, 3.76e-07, 1.53e-05, 1.78e-05, 1.47e-06]    []  \n",
      "49000     [7.23e-06, 7.09e-06, 1.17e-07, 1.46e-05, 6.66e-07, 1.71e-07, 8.76e-09, 1.45e-05, 1.09e-05, 1.65e-06]    [7.23e-06, 7.09e-06, 1.17e-07, 1.46e-05, 6.66e-07, 1.71e-07, 8.76e-09, 1.45e-05, 1.09e-05, 1.65e-06]    []  \n",
      "50000     [7.26e-06, 7.10e-06, 1.55e-07, 3.27e-07, 4.55e-07, 8.27e-08, 7.91e-08, 1.22e-05, 1.47e-05, 3.84e-07]    [7.26e-06, 7.10e-06, 1.55e-07, 3.27e-07, 4.55e-07, 8.27e-08, 7.91e-08, 1.22e-05, 1.47e-05, 3.84e-07]    []  \n",
      "\n",
      "Best model at step 42000:\n",
      "  train loss: 3.19e-05\n",
      "  test loss: 3.19e-05\n",
      "  test metric: []\n",
      "\n",
      "'train' took 593.548411 s\n",
      "\n"
     ]
    }
   ],
   "source": [
    "net = dde.nn.FNN(layer_size, activation, initializer)\n",
    "model = dde.Model(data, net)\n",
    "model.compile(\"adam\", lr=0.001, external_trainable_variables=[beta, gamma])\n",
    "variable = dde.callbacks.VariableValue(\n",
    "   [beta, gamma], period=600, filename=\"variables.dat\"\n",
    ")\n",
    "losshistory, train_state = model.train(iterations=50000,callbacks=[variable])\n",
    "# train lbfgs"
   ],
   "metadata": {
    "collapsed": false,
    "ExecuteTime": {
     "end_time": "2023-08-20T03:47:33.009821700Z",
     "start_time": "2023-08-20T03:37:39.455583400Z"
    }
   }
  },
  {
   "cell_type": "code",
   "execution_count": 61,
   "outputs": [
    {
     "name": "stdout",
     "output_type": "stream",
     "text": [
      "tensor(0.1170, requires_grad=True) tensor(0.0064, requires_grad=True)\n"
     ]
    }
   ],
   "source": [
    "print(beta,gamma)"
   ],
   "metadata": {
    "collapsed": false,
    "ExecuteTime": {
     "end_time": "2023-08-20T03:50:53.483791800Z",
     "start_time": "2023-08-20T03:50:53.478808400Z"
    }
   }
  },
  {
   "cell_type": "code",
   "execution_count": 62,
   "outputs": [
    {
     "ename": "NameError",
     "evalue": "name 'external_trainable_variables' is not defined",
     "output_type": "error",
     "traceback": [
      "\u001B[0;31m---------------------------------------------------------------------------\u001B[0m",
      "\u001B[0;31mNameError\u001B[0m                                 Traceback (most recent call last)",
      "Cell \u001B[0;32mIn[62], line 1\u001B[0m\n\u001B[0;32m----> 1\u001B[0m model\u001B[38;5;241m.\u001B[39mcompile(\u001B[38;5;124m\"\u001B[39m\u001B[38;5;124mL-BFGS\u001B[39m\u001B[38;5;124m\"\u001B[39m, external_trainable_variables\u001B[38;5;241m=\u001B[39m\u001B[43mexternal_trainable_variables\u001B[49m)\n\u001B[1;32m      2\u001B[0m losshistory, train_state \u001B[38;5;241m=\u001B[39m model\u001B[38;5;241m.\u001B[39mtrain(callbacks\u001B[38;5;241m=\u001B[39m[variable])\n",
      "\u001B[0;31mNameError\u001B[0m: name 'external_trainable_variables' is not defined"
     ]
    }
   ],
   "source": [
    "model.compile(\"L-BFGS\", external_trainable_variables=external_trainable_variables)\n",
    "losshistory, train_state = model.train(callbacks=[variable])"
   ],
   "metadata": {
    "collapsed": false,
    "ExecuteTime": {
     "end_time": "2023-08-20T03:50:54.351067600Z",
     "start_time": "2023-08-20T03:50:54.346081500Z"
    }
   }
  },
  {
   "cell_type": "code",
   "execution_count": 63,
   "outputs": [],
   "source": [
    "from deepxde.utils.external import *\n",
    "def pack_data(train_state):\n",
    "    def merge_values(values):\n",
    "        if values is None:\n",
    "            return None\n",
    "        return np.hstack(values) if isinstance(values, (list, tuple)) else values\n",
    "\n",
    "    y_train = merge_values(train_state.y_train)\n",
    "    y_test = merge_values(train_state.y_test)\n",
    "    best_y = merge_values(train_state.best_y)\n",
    "    best_ystd = merge_values(train_state.best_ystd)\n",
    "    return y_train, y_test, best_y, best_ystd\n",
    "s = pack_data(train_state)"
   ],
   "metadata": {
    "collapsed": false,
    "ExecuteTime": {
     "end_time": "2023-08-20T03:50:55.423373600Z",
     "start_time": "2023-08-20T03:50:55.412403900Z"
    }
   }
  },
  {
   "cell_type": "code",
   "execution_count": 64,
   "outputs": [],
   "source": [
    "def myplot_best_state(train_state):\n",
    "    \"\"\"Plot the best result of the smallest training loss.\n",
    "\n",
    "    This function only works for 1D and 2D problems. For other problems and to better\n",
    "    customize the figure, use ``save_best_state()``.\n",
    "\n",
    "    Note:\n",
    "        You need to call ``plt.show()`` to show the figure.\n",
    "\n",
    "    Args:\n",
    "        train_state: ``TrainState`` instance. The second variable returned from\n",
    "            ``Model.train()``.\n",
    "    \"\"\"\n",
    "    if isinstance(train_state.X_train, (list, tuple)):\n",
    "        print(\n",
    "            \"Error: The network has multiple inputs, and plotting such result han't been implemented.\"\n",
    "        )\n",
    "        return\n",
    "\n",
    "    y_train, y_test, best_y, best_ystd = pack_data(train_state)\n",
    "    y_dim = best_y.shape[1]\n",
    "    print(best_y.shape)\n",
    "    besttval=-1\n",
    "    mxval=-1\n",
    "    for ii in range(0,best_y.shape[0]):\n",
    "        if best_y[ii,1]>mxval:\n",
    "            mxval=best_y[ii,1]\n",
    "            besttval=ii\n",
    "    # Regression plot\n",
    "    # 1D\n",
    "    if train_state.X_test.shape[1] == 1:\n",
    "        idx = np.argsort(train_state.X_test[:, 0])\n",
    "        X = train_state.X_test[idx, 0]\n",
    "        plt.figure()\n",
    "        for i in range(y_dim):\n",
    "            if y_train is not None:\n",
    "                plt.plot(train_state.X_train[:, 0], y_train[:, i], \"ok\", label=\"Train\")\n",
    "            if y_test is not None:\n",
    "                plt.plot(X, y_test[idx, i], \"-k\", label=\"True\")\n",
    "            if i==0:\n",
    "                plt.plot(X, best_y[idx, i], color='red', label=\"S\")\n",
    "            elif i==1:\n",
    "                plt.plot(X, best_y[idx, i], color='green', label=\"I\")\n",
    "            else:\n",
    "                plt.plot(X, best_y[idx, i], color='blue', label=\"R\")\n",
    "            if best_ystd is not None:\n",
    "                plt.plot(\n",
    "                    X, best_y[idx, i] + 2 * best_ystd[idx, i], \"-b\", label=\"95% CI\"\n",
    "                )\n",
    "                plt.plot(X, best_y[idx, i] - 2 * best_ystd[idx, i], \"-b\")\n",
    "        plt.xlabel(\"x\")\n",
    "        plt.ylabel(\"y\")\n",
    "        plt.legend()\n",
    "        print(besttval)\n",
    "        print(mxval)\n",
    "    # 2D\n",
    "    elif train_state.X_test.shape[1] == 2:\n",
    "        for i in range(y_dim):\n",
    "            plt.figure()\n",
    "            ax = plt.axes(projection=Axes3D.name)\n",
    "            ax.plot3D(\n",
    "                train_state.X_test[:, 0],\n",
    "                train_state.X_test[:, 1],\n",
    "                best_y[:, i],\n",
    "                \".\",\n",
    "            )\n",
    "            ax.set_xlabel(\"$x_1$\")\n",
    "            ax.set_ylabel(\"$x_2$\")\n",
    "            ax.set_zlabel(\"$y_{}$\".format(i + 1))\n"
   ],
   "metadata": {
    "collapsed": false,
    "ExecuteTime": {
     "end_time": "2023-08-20T03:50:56.290909300Z",
     "start_time": "2023-08-20T03:50:56.273953400Z"
    }
   }
  },
  {
   "cell_type": "code",
   "execution_count": 65,
   "outputs": [
    {
     "name": "stdout",
     "output_type": "stream",
     "text": [
      "(514, 3)\n",
      "491\n",
      "0.7815343\n"
     ]
    },
    {
     "data": {
      "text/plain": "<Figure size 640x480 with 1 Axes>",
      "image/png": "[encoded data removed]"
     },
     "metadata": {},
     "output_type": "display_data"
    }
   ],
   "source": [
    "myplot_best_state(train_state)"
   ],
   "metadata": {
    "collapsed": false,
    "ExecuteTime": {
     "end_time": "2023-08-20T03:50:57.279552500Z",
     "start_time": "2023-08-20T03:50:57.051164600Z"
    }
   }
  },
  {
   "cell_type": "code",
   "execution_count": null,
   "outputs": [],
   "source": [],
   "metadata": {
    "collapsed": false
   }
  }
 ],
 "metadata": {
  "kernelspec": {
   "display_name": "Python 3",
   "language": "python",
   "name": "python3"
  },
  "language_info": {
   "codemirror_mode": {
    "name": "ipython",
    "version": 2
   },
   "file_extension": ".py",
   "mimetype": "text/x-python",
   "name": "python",
   "nbconvert_exporter": "python",
   "pygments_lexer": "ipython2",
   "version": "2.7.6"
  }
 },
 "nbformat": 4,
 "nbformat_minor": 0
}
